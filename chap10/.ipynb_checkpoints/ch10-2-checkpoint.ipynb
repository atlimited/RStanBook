{
 "cells": [
  {
   "cell_type": "code",
   "execution_count": 1,
   "metadata": {},
   "outputs": [],
   "source": [
    "import numpy as np\n",
    "import pandas as pd\n",
    "from scipy.stats import mstats\n",
    "import matplotlib.pyplot as plt\n",
    "import seaborn as sns\n",
    "import pystan\n",
    "%matplotlib inline\n",
    "plt.style.use(\"ggplot\")"
   ]
  },
  {
   "cell_type": "code",
   "execution_count": 2,
   "metadata": {},
   "outputs": [
    {
     "data": {
      "text/html": [
       "<div>\n",
       "<style scoped>\n",
       "    .dataframe tbody tr th:only-of-type {\n",
       "        vertical-align: middle;\n",
       "    }\n",
       "\n",
       "    .dataframe tbody tr th {\n",
       "        vertical-align: top;\n",
       "    }\n",
       "\n",
       "    .dataframe thead th {\n",
       "        text-align: right;\n",
       "    }\n",
       "</style>\n",
       "<table border=\"1\" class=\"dataframe\">\n",
       "  <thead>\n",
       "    <tr style=\"text-align: right;\">\n",
       "      <th></th>\n",
       "      <th>Loser</th>\n",
       "      <th>Winner</th>\n",
       "    </tr>\n",
       "  </thead>\n",
       "  <tbody>\n",
       "    <tr>\n",
       "      <th>0</th>\n",
       "      <td>1</td>\n",
       "      <td>2</td>\n",
       "    </tr>\n",
       "    <tr>\n",
       "      <th>1</th>\n",
       "      <td>1</td>\n",
       "      <td>2</td>\n",
       "    </tr>\n",
       "    <tr>\n",
       "      <th>2</th>\n",
       "      <td>2</td>\n",
       "      <td>1</td>\n",
       "    </tr>\n",
       "    <tr>\n",
       "      <th>3</th>\n",
       "      <td>1</td>\n",
       "      <td>2</td>\n",
       "    </tr>\n",
       "    <tr>\n",
       "      <th>4</th>\n",
       "      <td>1</td>\n",
       "      <td>2</td>\n",
       "    </tr>\n",
       "  </tbody>\n",
       "</table>\n",
       "</div>"
      ],
      "text/plain": [
       "   Loser  Winner\n",
       "0      1       2\n",
       "1      1       2\n",
       "2      2       1\n",
       "3      1       2\n",
       "4      1       2"
      ]
     },
     "execution_count": 2,
     "metadata": {},
     "output_type": "execute_result"
    }
   ],
   "source": [
    "data = pd.read_csv('./input/data-usagitokame.txt')\n",
    "data.head()"
   ]
  },
  {
   "cell_type": "code",
   "execution_count": 3,
   "metadata": {},
   "outputs": [
    {
     "data": {
      "text/html": [
       "<div>\n",
       "<style scoped>\n",
       "    .dataframe tbody tr th:only-of-type {\n",
       "        vertical-align: middle;\n",
       "    }\n",
       "\n",
       "    .dataframe tbody tr th {\n",
       "        vertical-align: top;\n",
       "    }\n",
       "\n",
       "    .dataframe thead th {\n",
       "        text-align: right;\n",
       "    }\n",
       "</style>\n",
       "<table border=\"1\" class=\"dataframe\">\n",
       "  <thead>\n",
       "    <tr style=\"text-align: right;\">\n",
       "      <th></th>\n",
       "      <th>Winner</th>\n",
       "    </tr>\n",
       "    <tr>\n",
       "      <th>Loser</th>\n",
       "      <th></th>\n",
       "    </tr>\n",
       "  </thead>\n",
       "  <tbody>\n",
       "    <tr>\n",
       "      <th>1</th>\n",
       "      <td>26</td>\n",
       "    </tr>\n",
       "    <tr>\n",
       "      <th>2</th>\n",
       "      <td>4</td>\n",
       "    </tr>\n",
       "  </tbody>\n",
       "</table>\n",
       "</div>"
      ],
      "text/plain": [
       "       Winner\n",
       "Loser        \n",
       "1          26\n",
       "2           4"
      ]
     },
     "execution_count": 3,
     "metadata": {},
     "output_type": "execute_result"
    }
   ],
   "source": [
    "data.groupby('Loser').count()"
   ]
  },
  {
   "cell_type": "code",
   "execution_count": 4,
   "metadata": {},
   "outputs": [],
   "source": [
    "stan_model = \"\"\"\n",
    "\n",
    "data {\n",
    "  int N;\n",
    "  int G;\n",
    "  int<lower=1, upper=N> LW[G, 2];\n",
    "}\n",
    "\n",
    "\n",
    "parameters {\n",
    "  ordered[2] performance[G];\n",
    "  real b;\n",
    "}\n",
    "\n",
    "\n",
    "transformed parameters {\n",
    "  real mu[N];\n",
    "  mu[1] = 0;\n",
    "  mu[2] = b;\n",
    "}\n",
    "\n",
    "model {\n",
    "  for (g in 1:G){\n",
    "    for (i in 1:2){\n",
    "      performance[g, i] ~ normal(mu[LW[g, i]], 1);\n",
    "    }\n",
    "  }\n",
    "}\n",
    "\n",
    "\"\"\""
   ]
  },
  {
   "cell_type": "code",
   "execution_count": 5,
   "metadata": {},
   "outputs": [
    {
     "name": "stderr",
     "output_type": "stream",
     "text": [
      "INFO:pystan:COMPILING THE C++ CODE FOR MODEL anon_model_3abff9c70fc3a702f732497d4d9d627c NOW.\n"
     ]
    }
   ],
   "source": [
    "sm = pystan.StanModel(model_code=stan_model)"
   ]
  },
  {
   "cell_type": "code",
   "execution_count": 6,
   "metadata": {},
   "outputs": [],
   "source": [
    "stan_data = {}\n",
    "stan_data['N'] = 2\n",
    "stan_data['G'] = data.shape[0]\n",
    "stan_data['LW'] = data"
   ]
  },
  {
   "cell_type": "code",
   "execution_count": 7,
   "metadata": {},
   "outputs": [
    {
     "name": "stderr",
     "output_type": "stream",
     "text": [
      "WARNING:pystan:n_eff / iter below 0.001 indicates that the effective sample size has likely been overestimated\n",
      "WARNING:pystan:Rhat above 1.1 or below 0.9 indicates that the chains very likely have not mixed\n"
     ]
    }
   ],
   "source": [
    "fit = sm.sampling(stan_data)"
   ]
  },
  {
   "cell_type": "code",
   "execution_count": 8,
   "metadata": {},
   "outputs": [
    {
     "data": {
      "text/plain": [
       "Inference for Stan model: anon_model_3abff9c70fc3a702f732497d4d9d627c.\n",
       "4 chains, each with iter=2000; warmup=1000; thin=1; \n",
       "post-warmup draws per chain=1000, total post-warmup draws=4000.\n",
       "\n",
       "                    mean se_mean     sd    2.5%    25%    50%    75%  97.5%  n_eff   Rhat\n",
       "performance[1,1]   -0.18    0.01   0.94   -2.08  -0.81  -0.15   0.47   1.58   5270    1.0\n",
       "performance[2,1]   -0.17    0.01   0.92   -2.04   -0.8  -0.13   0.44   1.55   5710    1.0\n",
       "performance[3,1]    0.44    0.01   0.79   -1.14  -0.09   0.45   0.98   1.95   6091    1.0\n",
       "performance[4,1]   -0.16    0.01   0.93   -2.03  -0.76  -0.16   0.48   1.61   5091    1.0\n",
       "performance[5,1]   -0.18    0.01   0.93   -2.05  -0.79  -0.14   0.47   1.58   6142    1.0\n",
       "performance[6,1]    -0.2    0.01    0.9   -2.01  -0.82  -0.17   0.43   1.48   5300    1.0\n",
       "performance[7,1]   -0.17    0.01   0.91   -2.01  -0.79  -0.14   0.46   1.54   5126    1.0\n",
       "performance[8,1]   -0.18    0.01   0.94   -2.06   -0.8  -0.16   0.45   1.63   5261    1.0\n",
       "performance[9,1]   -0.19    0.01   0.92   -2.08  -0.79  -0.16   0.47    1.5   4068    1.0\n",
       "performance[10,1]  -0.17    0.01   0.91   -2.01  -0.76  -0.17   0.44   1.58   5071    1.0\n",
       "performance[11,1]  -0.18    0.01   0.92   -2.05  -0.79  -0.16   0.43   1.55   4738    1.0\n",
       "performance[12,1]  -0.18    0.01   0.91    -2.0  -0.78  -0.15   0.44   1.52   4764    1.0\n",
       "performance[13,1]   0.44    0.01   0.82   -1.26   -0.1   0.45    1.0   2.03   5773    1.0\n",
       "performance[14,1]  -0.18    0.01   0.93   -2.04  -0.79  -0.16   0.45    1.6   5756    1.0\n",
       "performance[15,1]   -0.2    0.01   0.93   -2.07   -0.8  -0.18   0.44   1.52   5475    1.0\n",
       "performance[16,1]   0.44    0.01   0.79   -1.17  -0.08   0.43   0.95   2.01   6231    1.0\n",
       "performance[17,1]  -0.16    0.01   0.92   -2.01  -0.77  -0.15   0.46   1.61   4719    1.0\n",
       "performance[18,1]  -0.16    0.01   0.91   -1.91  -0.73  -0.14   0.46    1.6   5055    1.0\n",
       "performance[19,1]  -0.16    0.01   0.93   -2.01  -0.78  -0.13   0.49   1.53   4925    1.0\n",
       "performance[20,1]  -0.17    0.01   0.91   -1.97  -0.77  -0.16   0.46   1.57   5497    1.0\n",
       "performance[21,1]  -0.17    0.01    0.9   -1.99  -0.78  -0.16   0.44   1.56   5252    1.0\n",
       "performance[22,1]  -0.16    0.01   0.92   -2.02  -0.77  -0.15   0.47   1.58   5289    1.0\n",
       "performance[23,1]   -0.2    0.01   0.91   -1.95  -0.81  -0.17   0.43   1.53   5401    1.0\n",
       "performance[24,1]  -0.17    0.01   0.91    -2.0  -0.79  -0.15   0.46   1.57   4958    1.0\n",
       "performance[25,1]  -0.19    0.01   0.93   -2.05  -0.81  -0.17   0.44   1.61   5303    1.0\n",
       "performance[26,1]  -0.16    0.01   0.94   -2.06  -0.79  -0.13   0.49   1.59   5242    1.0\n",
       "performance[27,1]   0.45    0.01   0.79   -1.11  -0.08   0.48   0.98   1.98   5115    1.0\n",
       "performance[28,1]  -0.15    0.01   0.91   -1.99  -0.76  -0.12   0.49   1.55   4797    1.0\n",
       "performance[29,1]  -0.18    0.01   0.92   -2.07   -0.8  -0.16   0.44   1.53   4948    1.0\n",
       "performance[30,1]   -0.2    0.01   0.94   -2.08  -0.83  -0.18   0.45   1.57   4940    1.0\n",
       "performance[1,2]    1.77    0.02   0.98   -0.09   1.11   1.74    2.4   3.73   3439    1.0\n",
       "performance[2,2]     1.8    0.02   0.97 -3.2e-3   1.13   1.79   2.45   3.75   3813    1.0\n",
       "performance[3,2]    1.17  9.7e-3   0.78   -0.36   0.65   1.16    1.7   2.78   6506    1.0\n",
       "performance[4,2]    1.79    0.02   0.99   -0.03    1.1   1.76   2.44   3.78   3568    1.0\n",
       "performance[5,2]    1.79    0.02   0.95  9.4e-3   1.11   1.77   2.43   3.73   3336    1.0\n",
       "performance[6,2]    1.76    0.01   0.95   -0.03   1.11   1.72   2.39   3.69   4073    1.0\n",
       "performance[7,2]    1.78    0.02   0.95    0.07   1.12   1.75    2.4   3.72   3301    1.0\n",
       "performance[8,2]    1.78    0.02    1.0   -0.19    1.1   1.74   2.45   3.79   3086    1.0\n",
       "performance[9,2]     1.8    0.02   0.97   -0.03   1.11   1.78   2.44   3.74   3475    1.0\n",
       "performance[10,2]   1.79    0.02   0.96   -0.04   1.14   1.77   2.42    3.7   3362    1.0\n",
       "performance[11,2]   1.77    0.02   0.97   -0.05   1.11   1.75   2.39   3.73   3387    1.0\n",
       "performance[12,2]   1.77    0.02   0.98   -0.07    1.1   1.74   2.41   3.79   3760    1.0\n",
       "performance[13,2]   1.15  9.8e-3   0.79   -0.38   0.62   1.14   1.66   2.74   6505    1.0\n",
       "performance[14,2]   1.75    0.02   0.97   -0.08   1.07   1.73   2.39   3.75   3394    1.0\n",
       "performance[15,2]   1.76    0.02   0.97   -0.03   1.09   1.71   2.41   3.72   3438    1.0\n",
       "performance[16,2]   1.14  9.9e-3   0.78   -0.37   0.61   1.12   1.65   2.71   6248    1.0\n",
       "performance[17,2]   1.77    0.02   0.99    -0.1   1.11   1.75   2.43   3.75   2451    1.0\n",
       "performance[18,2]   1.76    0.02    1.0   -0.14   1.06   1.74   2.43   3.82   3596    1.0\n",
       "performance[19,2]   1.78    0.02   0.99   -0.04   1.09   1.74   2.42   3.86   3896    1.0\n",
       "performance[20,2]   1.76    0.02   0.99   -0.09   1.06   1.73   2.41   3.81   3800    1.0\n",
       "performance[21,2]   1.78    0.02   0.99   -0.09   1.11   1.73   2.43   3.83   3434    1.0\n",
       "performance[22,2]   1.77    0.02   0.97   -0.05    1.1   1.73    2.4   3.77   2832    1.0\n",
       "performance[23,2]   1.79    0.02   0.98   -0.06   1.12   1.77   2.46   3.71   3486    1.0\n",
       "performance[24,2]   1.77    0.02   0.96 -8.0e-3   1.12   1.74    2.4   3.77   3539    1.0\n",
       "performance[25,2]   1.75    0.02    1.0   -0.08   1.05   1.73    2.4   3.82   3362    1.0\n",
       "performance[26,2]   1.78    0.02   0.98   -0.04    1.1   1.74   2.44   3.76   3579    1.0\n",
       "performance[27,2]   1.15    0.01   0.78   -0.38   0.63   1.15   1.68   2.69   5366    1.0\n",
       "performance[28,2]   1.78    0.02   0.98   -0.02   1.09   1.74   2.43   3.78   3934    1.0\n",
       "performance[29,2]   1.76    0.02   0.95   -0.01   1.09   1.71   2.39   3.74   3265    1.0\n",
       "performance[30,2]   1.77    0.02   0.96   -0.03   1.11   1.74   2.43   3.72   3617    1.0\n",
       "b                   1.59  8.8e-3   0.41    0.83   1.32   1.58   1.86   2.44   2156    1.0\n",
       "mu[1]                0.0     nan    0.0     0.0    0.0    0.0    0.0    0.0    nan    nan\n",
       "mu[2]               1.59  8.8e-3   0.41    0.83   1.32   1.58   1.86   2.44   2156    1.0\n",
       "lp__              -23.86     0.2   6.65   -37.9 -28.17 -23.61 -19.05 -12.13   1095    1.0\n",
       "\n",
       "Samples were drawn using NUTS at Thu Apr 30 12:25:28 2020.\n",
       "For each parameter, n_eff is a crude measure of effective sample size,\n",
       "and Rhat is the potential scale reduction factor on split chains (at \n",
       "convergence, Rhat=1)."
      ]
     },
     "execution_count": 8,
     "metadata": {},
     "output_type": "execute_result"
    }
   ],
   "source": [
    "fit"
   ]
  },
  {
   "cell_type": "code",
   "execution_count": 9,
   "metadata": {},
   "outputs": [
    {
     "name": "stderr",
     "output_type": "stream",
     "text": [
      "WARNING:pystan:Deprecation warning. PyStan plotting deprecated, use ArviZ library (Python 3.5+). `pip install arviz`; `arviz.plot_trace(fit)`)\n"
     ]
    },
    {
     "ename": "LinAlgError",
     "evalue": "singular matrix",
     "output_type": "error",
     "traceback": [
      "\u001b[0;31m---------------------------------------------------------------------------\u001b[0m",
      "\u001b[0;31mLinAlgError\u001b[0m                               Traceback (most recent call last)",
      "\u001b[0;32m<ipython-input-9-132fb2e31e2c>\u001b[0m in \u001b[0;36m<module>\u001b[0;34m\u001b[0m\n\u001b[0;32m----> 1\u001b[0;31m \u001b[0mfig\u001b[0m \u001b[0;34m=\u001b[0m \u001b[0mfit\u001b[0m\u001b[0;34m.\u001b[0m\u001b[0mplot\u001b[0m\u001b[0;34m(\u001b[0m\u001b[0;34m)\u001b[0m\u001b[0;34m\u001b[0m\u001b[0m\n\u001b[0m",
      "\u001b[0;32mstanfit4anon_model_3abff9c70fc3a702f732497d4d9d627c_8705713542481374070.pyx\u001b[0m in \u001b[0;36mstanfit4anon_model_3abff9c70fc3a702f732497d4d9d627c_8705713542481374070.StanFit4Model.plot\u001b[0;34m()\u001b[0m\n",
      "\u001b[0;32m/usr/local/lib/python3.5/dist-packages/pystan/plots.py\u001b[0m in \u001b[0;36mtraceplot\u001b[0;34m(fit, pars, dtypes, **kwargs)\u001b[0m\n\u001b[1;32m     26\u001b[0m     \u001b[0mvalues\u001b[0m \u001b[0;34m=\u001b[0m \u001b[0mfit\u001b[0m\u001b[0;34m.\u001b[0m\u001b[0mextract\u001b[0m\u001b[0;34m(\u001b[0m\u001b[0mdtypes\u001b[0m\u001b[0;34m=\u001b[0m\u001b[0mdtypes\u001b[0m\u001b[0;34m,\u001b[0m \u001b[0mpars\u001b[0m\u001b[0;34m=\u001b[0m\u001b[0mpars\u001b[0m\u001b[0;34m,\u001b[0m \u001b[0mpermuted\u001b[0m\u001b[0;34m=\u001b[0m\u001b[0;32mFalse\u001b[0m\u001b[0;34m)\u001b[0m\u001b[0;34m\u001b[0m\u001b[0m\n\u001b[1;32m     27\u001b[0m     \u001b[0mvalues\u001b[0m \u001b[0;34m=\u001b[0m \u001b[0;34m{\u001b[0m\u001b[0mkey\u001b[0m \u001b[0;34m:\u001b[0m \u001b[0marr\u001b[0m\u001b[0;34m.\u001b[0m\u001b[0mreshape\u001b[0m\u001b[0;34m(\u001b[0m\u001b[0;34m-\u001b[0m\u001b[0;36m1\u001b[0m\u001b[0;34m,\u001b[0m \u001b[0mint\u001b[0m\u001b[0;34m(\u001b[0m\u001b[0mnp\u001b[0m\u001b[0;34m.\u001b[0m\u001b[0mmultiply\u001b[0m\u001b[0;34m.\u001b[0m\u001b[0mreduce\u001b[0m\u001b[0;34m(\u001b[0m\u001b[0marr\u001b[0m\u001b[0;34m.\u001b[0m\u001b[0mshape\u001b[0m\u001b[0;34m[\u001b[0m\u001b[0;36m2\u001b[0m\u001b[0;34m:\u001b[0m\u001b[0;34m]\u001b[0m\u001b[0;34m)\u001b[0m\u001b[0;34m)\u001b[0m\u001b[0;34m,\u001b[0m \u001b[0morder\u001b[0m\u001b[0;34m=\u001b[0m\u001b[0;34m\"F\"\u001b[0m\u001b[0;34m)\u001b[0m \u001b[0;32mfor\u001b[0m \u001b[0mkey\u001b[0m\u001b[0;34m,\u001b[0m \u001b[0marr\u001b[0m \u001b[0;32min\u001b[0m \u001b[0mvalues\u001b[0m\u001b[0;34m.\u001b[0m\u001b[0mitems\u001b[0m\u001b[0;34m(\u001b[0m\u001b[0;34m)\u001b[0m\u001b[0;34m}\u001b[0m\u001b[0;34m\u001b[0m\u001b[0m\n\u001b[0;32m---> 28\u001b[0;31m     \u001b[0;32mreturn\u001b[0m \u001b[0mplots\u001b[0m\u001b[0;34m.\u001b[0m\u001b[0mtraceplot\u001b[0m\u001b[0;34m(\u001b[0m\u001b[0mvalues\u001b[0m\u001b[0;34m,\u001b[0m \u001b[0mpars\u001b[0m\u001b[0;34m,\u001b[0m \u001b[0;34m**\u001b[0m\u001b[0mkwargs\u001b[0m\u001b[0;34m)\u001b[0m\u001b[0;34m\u001b[0m\u001b[0m\n\u001b[0m",
      "\u001b[0;32m/usr/local/lib/python3.5/dist-packages/pystan/external/pymc/plots.py\u001b[0m in \u001b[0;36mtraceplot\u001b[0;34m(trace, vars)\u001b[0m\n\u001b[1;32m     39\u001b[0m             \u001b[0max\u001b[0m\u001b[0;34m[\u001b[0m\u001b[0mi\u001b[0m\u001b[0;34m,\u001b[0m \u001b[0;36m0\u001b[0m\u001b[0;34m]\u001b[0m\u001b[0;34m.\u001b[0m\u001b[0mhist\u001b[0m\u001b[0;34m(\u001b[0m\u001b[0md\u001b[0m\u001b[0;34m,\u001b[0m \u001b[0mbins\u001b[0m\u001b[0;34m=\u001b[0m\u001b[0msqrt\u001b[0m\u001b[0;34m(\u001b[0m\u001b[0md\u001b[0m\u001b[0;34m.\u001b[0m\u001b[0msize\u001b[0m\u001b[0;34m)\u001b[0m\u001b[0;34m)\u001b[0m\u001b[0;34m\u001b[0m\u001b[0m\n\u001b[1;32m     40\u001b[0m         \u001b[0;32melse\u001b[0m\u001b[0;34m:\u001b[0m\u001b[0;34m\u001b[0m\u001b[0m\n\u001b[0;32m---> 41\u001b[0;31m             \u001b[0mkdeplot_op\u001b[0m\u001b[0;34m(\u001b[0m\u001b[0max\u001b[0m\u001b[0;34m[\u001b[0m\u001b[0mi\u001b[0m\u001b[0;34m,\u001b[0m \u001b[0;36m0\u001b[0m\u001b[0;34m]\u001b[0m\u001b[0;34m,\u001b[0m \u001b[0md\u001b[0m\u001b[0;34m)\u001b[0m\u001b[0;34m\u001b[0m\u001b[0m\n\u001b[0m\u001b[1;32m     42\u001b[0m         \u001b[0max\u001b[0m\u001b[0;34m[\u001b[0m\u001b[0mi\u001b[0m\u001b[0;34m,\u001b[0m \u001b[0;36m0\u001b[0m\u001b[0;34m]\u001b[0m\u001b[0;34m.\u001b[0m\u001b[0mset_title\u001b[0m\u001b[0;34m(\u001b[0m\u001b[0mstr\u001b[0m\u001b[0;34m(\u001b[0m\u001b[0mv\u001b[0m\u001b[0;34m)\u001b[0m\u001b[0;34m)\u001b[0m\u001b[0;34m\u001b[0m\u001b[0m\n\u001b[1;32m     43\u001b[0m         \u001b[0max\u001b[0m\u001b[0;34m[\u001b[0m\u001b[0mi\u001b[0m\u001b[0;34m,\u001b[0m \u001b[0;36m1\u001b[0m\u001b[0;34m]\u001b[0m\u001b[0;34m.\u001b[0m\u001b[0mplot\u001b[0m\u001b[0;34m(\u001b[0m\u001b[0md\u001b[0m\u001b[0;34m,\u001b[0m \u001b[0malpha\u001b[0m\u001b[0;34m=\u001b[0m\u001b[0;36m.35\u001b[0m\u001b[0;34m)\u001b[0m\u001b[0;34m\u001b[0m\u001b[0m\n",
      "\u001b[0;32m/usr/local/lib/python3.5/dist-packages/pystan/external/pymc/plots.py\u001b[0m in \u001b[0;36mkdeplot_op\u001b[0;34m(ax, data)\u001b[0m\n\u001b[1;32m     53\u001b[0m     \u001b[0;32mfor\u001b[0m \u001b[0mi\u001b[0m \u001b[0;32min\u001b[0m \u001b[0mrange\u001b[0m\u001b[0;34m(\u001b[0m\u001b[0mdata\u001b[0m\u001b[0;34m.\u001b[0m\u001b[0mshape\u001b[0m\u001b[0;34m[\u001b[0m\u001b[0;36m1\u001b[0m\u001b[0;34m]\u001b[0m\u001b[0;34m)\u001b[0m\u001b[0;34m:\u001b[0m\u001b[0;34m\u001b[0m\u001b[0m\n\u001b[1;32m     54\u001b[0m         \u001b[0md\u001b[0m \u001b[0;34m=\u001b[0m \u001b[0mdata\u001b[0m\u001b[0;34m[\u001b[0m\u001b[0;34m:\u001b[0m\u001b[0;34m,\u001b[0m \u001b[0mi\u001b[0m\u001b[0;34m]\u001b[0m\u001b[0;34m\u001b[0m\u001b[0m\n\u001b[0;32m---> 55\u001b[0;31m         \u001b[0mdensity\u001b[0m \u001b[0;34m=\u001b[0m \u001b[0mkde\u001b[0m\u001b[0;34m.\u001b[0m\u001b[0mgaussian_kde\u001b[0m\u001b[0;34m(\u001b[0m\u001b[0md\u001b[0m\u001b[0;34m)\u001b[0m\u001b[0;34m\u001b[0m\u001b[0m\n\u001b[0m\u001b[1;32m     56\u001b[0m         \u001b[0ml\u001b[0m \u001b[0;34m=\u001b[0m \u001b[0mnp\u001b[0m\u001b[0;34m.\u001b[0m\u001b[0mmin\u001b[0m\u001b[0;34m(\u001b[0m\u001b[0md\u001b[0m\u001b[0;34m)\u001b[0m\u001b[0;34m\u001b[0m\u001b[0m\n\u001b[1;32m     57\u001b[0m         \u001b[0mu\u001b[0m \u001b[0;34m=\u001b[0m \u001b[0mnp\u001b[0m\u001b[0;34m.\u001b[0m\u001b[0mmax\u001b[0m\u001b[0;34m(\u001b[0m\u001b[0md\u001b[0m\u001b[0;34m)\u001b[0m\u001b[0;34m\u001b[0m\u001b[0m\n",
      "\u001b[0;32m/usr/local/lib/python3.5/dist-packages/scipy/stats/kde.py\u001b[0m in \u001b[0;36m__init__\u001b[0;34m(self, dataset, bw_method, weights)\u001b[0m\n\u001b[1;32m    207\u001b[0m             \u001b[0mself\u001b[0m\u001b[0;34m.\u001b[0m\u001b[0m_neff\u001b[0m \u001b[0;34m=\u001b[0m \u001b[0;36m1\u001b[0m\u001b[0;34m/\u001b[0m\u001b[0msum\u001b[0m\u001b[0;34m(\u001b[0m\u001b[0mself\u001b[0m\u001b[0;34m.\u001b[0m\u001b[0m_weights\u001b[0m\u001b[0;34m**\u001b[0m\u001b[0;36m2\u001b[0m\u001b[0;34m)\u001b[0m\u001b[0;34m\u001b[0m\u001b[0m\n\u001b[1;32m    208\u001b[0m \u001b[0;34m\u001b[0m\u001b[0m\n\u001b[0;32m--> 209\u001b[0;31m         \u001b[0mself\u001b[0m\u001b[0;34m.\u001b[0m\u001b[0mset_bandwidth\u001b[0m\u001b[0;34m(\u001b[0m\u001b[0mbw_method\u001b[0m\u001b[0;34m=\u001b[0m\u001b[0mbw_method\u001b[0m\u001b[0;34m)\u001b[0m\u001b[0;34m\u001b[0m\u001b[0m\n\u001b[0m\u001b[1;32m    210\u001b[0m \u001b[0;34m\u001b[0m\u001b[0m\n\u001b[1;32m    211\u001b[0m     \u001b[0;32mdef\u001b[0m \u001b[0mevaluate\u001b[0m\u001b[0;34m(\u001b[0m\u001b[0mself\u001b[0m\u001b[0;34m,\u001b[0m \u001b[0mpoints\u001b[0m\u001b[0;34m)\u001b[0m\u001b[0;34m:\u001b[0m\u001b[0;34m\u001b[0m\u001b[0m\n",
      "\u001b[0;32m/usr/local/lib/python3.5/dist-packages/scipy/stats/kde.py\u001b[0m in \u001b[0;36mset_bandwidth\u001b[0;34m(self, bw_method)\u001b[0m\n\u001b[1;32m    563\u001b[0m             \u001b[0;32mraise\u001b[0m \u001b[0mValueError\u001b[0m\u001b[0;34m(\u001b[0m\u001b[0mmsg\u001b[0m\u001b[0;34m)\u001b[0m\u001b[0;34m\u001b[0m\u001b[0m\n\u001b[1;32m    564\u001b[0m \u001b[0;34m\u001b[0m\u001b[0m\n\u001b[0;32m--> 565\u001b[0;31m         \u001b[0mself\u001b[0m\u001b[0;34m.\u001b[0m\u001b[0m_compute_covariance\u001b[0m\u001b[0;34m(\u001b[0m\u001b[0;34m)\u001b[0m\u001b[0;34m\u001b[0m\u001b[0m\n\u001b[0m\u001b[1;32m    566\u001b[0m \u001b[0;34m\u001b[0m\u001b[0m\n\u001b[1;32m    567\u001b[0m     \u001b[0;32mdef\u001b[0m \u001b[0m_compute_covariance\u001b[0m\u001b[0;34m(\u001b[0m\u001b[0mself\u001b[0m\u001b[0;34m)\u001b[0m\u001b[0;34m:\u001b[0m\u001b[0;34m\u001b[0m\u001b[0m\n",
      "\u001b[0;32m/usr/local/lib/python3.5/dist-packages/scipy/stats/kde.py\u001b[0m in \u001b[0;36m_compute_covariance\u001b[0;34m(self)\u001b[0m\n\u001b[1;32m    575\u001b[0m                                                \u001b[0mbias\u001b[0m\u001b[0;34m=\u001b[0m\u001b[0;32mFalse\u001b[0m\u001b[0;34m,\u001b[0m\u001b[0;34m\u001b[0m\u001b[0m\n\u001b[1;32m    576\u001b[0m                                                aweights=self.weights))\n\u001b[0;32m--> 577\u001b[0;31m             \u001b[0mself\u001b[0m\u001b[0;34m.\u001b[0m\u001b[0m_data_inv_cov\u001b[0m \u001b[0;34m=\u001b[0m \u001b[0mlinalg\u001b[0m\u001b[0;34m.\u001b[0m\u001b[0minv\u001b[0m\u001b[0;34m(\u001b[0m\u001b[0mself\u001b[0m\u001b[0;34m.\u001b[0m\u001b[0m_data_covariance\u001b[0m\u001b[0;34m)\u001b[0m\u001b[0;34m\u001b[0m\u001b[0m\n\u001b[0m\u001b[1;32m    578\u001b[0m \u001b[0;34m\u001b[0m\u001b[0m\n\u001b[1;32m    579\u001b[0m         \u001b[0mself\u001b[0m\u001b[0;34m.\u001b[0m\u001b[0mcovariance\u001b[0m \u001b[0;34m=\u001b[0m \u001b[0mself\u001b[0m\u001b[0;34m.\u001b[0m\u001b[0m_data_covariance\u001b[0m \u001b[0;34m*\u001b[0m \u001b[0mself\u001b[0m\u001b[0;34m.\u001b[0m\u001b[0mfactor\u001b[0m\u001b[0;34m**\u001b[0m\u001b[0;36m2\u001b[0m\u001b[0;34m\u001b[0m\u001b[0m\n",
      "\u001b[0;32m/usr/local/lib/python3.5/dist-packages/scipy/linalg/basic.py\u001b[0m in \u001b[0;36minv\u001b[0;34m(a, overwrite_a, check_finite)\u001b[0m\n\u001b[1;32m    977\u001b[0m         \u001b[0minv_a\u001b[0m\u001b[0;34m,\u001b[0m \u001b[0minfo\u001b[0m \u001b[0;34m=\u001b[0m \u001b[0mgetri\u001b[0m\u001b[0;34m(\u001b[0m\u001b[0mlu\u001b[0m\u001b[0;34m,\u001b[0m \u001b[0mpiv\u001b[0m\u001b[0;34m,\u001b[0m \u001b[0mlwork\u001b[0m\u001b[0;34m=\u001b[0m\u001b[0mlwork\u001b[0m\u001b[0;34m,\u001b[0m \u001b[0moverwrite_lu\u001b[0m\u001b[0;34m=\u001b[0m\u001b[0;36m1\u001b[0m\u001b[0;34m)\u001b[0m\u001b[0;34m\u001b[0m\u001b[0m\n\u001b[1;32m    978\u001b[0m     \u001b[0;32mif\u001b[0m \u001b[0minfo\u001b[0m \u001b[0;34m>\u001b[0m \u001b[0;36m0\u001b[0m\u001b[0;34m:\u001b[0m\u001b[0;34m\u001b[0m\u001b[0m\n\u001b[0;32m--> 979\u001b[0;31m         \u001b[0;32mraise\u001b[0m \u001b[0mLinAlgError\u001b[0m\u001b[0;34m(\u001b[0m\u001b[0;34m\"singular matrix\"\u001b[0m\u001b[0;34m)\u001b[0m\u001b[0;34m\u001b[0m\u001b[0m\n\u001b[0m\u001b[1;32m    980\u001b[0m     \u001b[0;32mif\u001b[0m \u001b[0minfo\u001b[0m \u001b[0;34m<\u001b[0m \u001b[0;36m0\u001b[0m\u001b[0;34m:\u001b[0m\u001b[0;34m\u001b[0m\u001b[0m\n\u001b[1;32m    981\u001b[0m         raise ValueError('illegal value in %d-th argument of internal '\n",
      "\u001b[0;31mLinAlgError\u001b[0m: singular matrix"
     ]
    },
    {
     "data": {
      "image/png": "[encoded data removed]",
      "text/plain": [
       "<Figure size 432x288 with 6 Axes>"
      ]
     },
     "metadata": {
      "needs_background": "light"
     },
     "output_type": "display_data"
    }
   ],
   "source": [
    "fig = fit.plot()"
   ]
  },
  {
   "cell_type": "code",
   "execution_count": null,
   "metadata": {},
   "outputs": [],
   "source": []
  }
 ],
 "metadata": {
  "kernelspec": {
   "display_name": "Python 3",
   "language": "python",
   "name": "python3"
  },
  "language_info": {
   "codemirror_mode": {
    "name": "ipython",
    "version": 3
   },
   "file_extension": ".py",
   "mimetype": "text/x-python",
   "name": "python",
   "nbconvert_exporter": "python",
   "pygments_lexer": "ipython3",
   "version": "3.5.2"
  }
 },
 "nbformat": 4,
 "nbformat_minor": 4
}
