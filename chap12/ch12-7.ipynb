{
 "cells": [
  {
   "cell_type": "code",
   "execution_count": 1,
   "metadata": {},
   "outputs": [],
   "source": [
    "import numpy as np\n",
    "import pandas as pd\n",
    "from scipy.stats import mstats\n",
    "import matplotlib.pyplot as plt\n",
    "import seaborn as sns\n",
    "import pystan\n",
    "%matplotlib inline\n",
    "plt.style.use(\"ggplot\")"
   ]
  },
  {
   "cell_type": "code",
   "execution_count": 6,
   "metadata": {},
   "outputs": [
    {
     "data": {
      "text/html": [
       "<div>\n",
       "<style scoped>\n",
       "    .dataframe tbody tr th:only-of-type {\n",
       "        vertical-align: middle;\n",
       "    }\n",
       "\n",
       "    .dataframe tbody tr th {\n",
       "        vertical-align: top;\n",
       "    }\n",
       "\n",
       "    .dataframe thead th {\n",
       "        text-align: right;\n",
       "    }\n",
       "</style>\n",
       "<table border=\"1\" class=\"dataframe\">\n",
       "  <thead>\n",
       "    <tr style=\"text-align: right;\">\n",
       "      <th></th>\n",
       "      <th>0</th>\n",
       "      <th>1</th>\n",
       "      <th>2</th>\n",
       "      <th>3</th>\n",
       "      <th>4</th>\n",
       "      <th>5</th>\n",
       "      <th>6</th>\n",
       "      <th>7</th>\n",
       "      <th>8</th>\n",
       "      <th>9</th>\n",
       "      <th>...</th>\n",
       "      <th>14</th>\n",
       "      <th>15</th>\n",
       "      <th>16</th>\n",
       "      <th>17</th>\n",
       "      <th>18</th>\n",
       "      <th>19</th>\n",
       "      <th>20</th>\n",
       "      <th>21</th>\n",
       "      <th>22</th>\n",
       "      <th>23</th>\n",
       "    </tr>\n",
       "  </thead>\n",
       "  <tbody>\n",
       "    <tr>\n",
       "      <th>0</th>\n",
       "      <td>1.09</td>\n",
       "      <td>1.16</td>\n",
       "      <td>0.63</td>\n",
       "      <td>1.36</td>\n",
       "      <td>3.08</td>\n",
       "      <td>4.04</td>\n",
       "      <td>2.68</td>\n",
       "      <td>4.72</td>\n",
       "      <td>3.61</td>\n",
       "      <td>4.65</td>\n",
       "      <td>...</td>\n",
       "      <td>2.64</td>\n",
       "      <td>3.09</td>\n",
       "      <td>2.12</td>\n",
       "      <td>1.97</td>\n",
       "      <td>3.49</td>\n",
       "      <td>2.22</td>\n",
       "      <td>2.50</td>\n",
       "      <td>1.54</td>\n",
       "      <td>1.83</td>\n",
       "      <td>2.06</td>\n",
       "    </tr>\n",
       "    <tr>\n",
       "      <th>1</th>\n",
       "      <td>1.39</td>\n",
       "      <td>1.85</td>\n",
       "      <td>0.49</td>\n",
       "      <td>1.88</td>\n",
       "      <td>2.54</td>\n",
       "      <td>3.75</td>\n",
       "      <td>3.86</td>\n",
       "      <td>5.80</td>\n",
       "      <td>4.31</td>\n",
       "      <td>4.86</td>\n",
       "      <td>...</td>\n",
       "      <td>2.51</td>\n",
       "      <td>3.02</td>\n",
       "      <td>5.32</td>\n",
       "      <td>2.90</td>\n",
       "      <td>1.78</td>\n",
       "      <td>3.18</td>\n",
       "      <td>6.32</td>\n",
       "      <td>1.17</td>\n",
       "      <td>1.54</td>\n",
       "      <td>0.01</td>\n",
       "    </tr>\n",
       "    <tr>\n",
       "      <th>2</th>\n",
       "      <td>-0.81</td>\n",
       "      <td>2.24</td>\n",
       "      <td>0.27</td>\n",
       "      <td>2.81</td>\n",
       "      <td>4.16</td>\n",
       "      <td>3.46</td>\n",
       "      <td>6.18</td>\n",
       "      <td>8.22</td>\n",
       "      <td>5.08</td>\n",
       "      <td>4.32</td>\n",
       "      <td>...</td>\n",
       "      <td>2.75</td>\n",
       "      <td>6.12</td>\n",
       "      <td>3.49</td>\n",
       "      <td>3.15</td>\n",
       "      <td>6.03</td>\n",
       "      <td>5.03</td>\n",
       "      <td>3.64</td>\n",
       "      <td>3.91</td>\n",
       "      <td>2.48</td>\n",
       "      <td>2.86</td>\n",
       "    </tr>\n",
       "    <tr>\n",
       "      <th>3</th>\n",
       "      <td>2.72</td>\n",
       "      <td>1.46</td>\n",
       "      <td>1.28</td>\n",
       "      <td>4.64</td>\n",
       "      <td>4.98</td>\n",
       "      <td>5.50</td>\n",
       "      <td>6.28</td>\n",
       "      <td>6.53</td>\n",
       "      <td>5.99</td>\n",
       "      <td>7.05</td>\n",
       "      <td>...</td>\n",
       "      <td>3.45</td>\n",
       "      <td>5.19</td>\n",
       "      <td>4.53</td>\n",
       "      <td>6.14</td>\n",
       "      <td>7.07</td>\n",
       "      <td>4.30</td>\n",
       "      <td>5.19</td>\n",
       "      <td>4.94</td>\n",
       "      <td>2.30</td>\n",
       "      <td>2.30</td>\n",
       "    </tr>\n",
       "    <tr>\n",
       "      <th>4</th>\n",
       "      <td>0.87</td>\n",
       "      <td>-0.49</td>\n",
       "      <td>3.59</td>\n",
       "      <td>4.59</td>\n",
       "      <td>5.12</td>\n",
       "      <td>5.96</td>\n",
       "      <td>10.02</td>\n",
       "      <td>8.80</td>\n",
       "      <td>7.38</td>\n",
       "      <td>7.73</td>\n",
       "      <td>...</td>\n",
       "      <td>5.70</td>\n",
       "      <td>5.58</td>\n",
       "      <td>9.37</td>\n",
       "      <td>5.91</td>\n",
       "      <td>7.00</td>\n",
       "      <td>8.40</td>\n",
       "      <td>6.99</td>\n",
       "      <td>4.85</td>\n",
       "      <td>2.50</td>\n",
       "      <td>0.70</td>\n",
       "    </tr>\n",
       "  </tbody>\n",
       "</table>\n",
       "<p>5 rows × 24 columns</p>\n",
       "</div>"
      ],
      "text/plain": [
       "     0     1     2     3     4     5      6     7     8     9   ...    14  \\\n",
       "0  1.09  1.16  0.63  1.36  3.08  4.04   2.68  4.72  3.61  4.65  ...  2.64   \n",
       "1  1.39  1.85  0.49  1.88  2.54  3.75   3.86  5.80  4.31  4.86  ...  2.51   \n",
       "2 -0.81  2.24  0.27  2.81  4.16  3.46   6.18  8.22  5.08  4.32  ...  2.75   \n",
       "3  2.72  1.46  1.28  4.64  4.98  5.50   6.28  6.53  5.99  7.05  ...  3.45   \n",
       "4  0.87 -0.49  3.59  4.59  5.12  5.96  10.02  8.80  7.38  7.73  ...  5.70   \n",
       "\n",
       "     15    16    17    18    19    20    21    22    23  \n",
       "0  3.09  2.12  1.97  3.49  2.22  2.50  1.54  1.83  2.06  \n",
       "1  3.02  5.32  2.90  1.78  3.18  6.32  1.17  1.54  0.01  \n",
       "2  6.12  3.49  3.15  6.03  5.03  3.64  3.91  2.48  2.86  \n",
       "3  5.19  4.53  6.14  7.07  4.30  5.19  4.94  2.30  2.30  \n",
       "4  5.58  9.37  5.91  7.00  8.40  6.99  4.85  2.50  0.70  \n",
       "\n",
       "[5 rows x 24 columns]"
      ]
     },
     "execution_count": 6,
     "metadata": {},
     "output_type": "execute_result"
    }
   ],
   "source": [
    "data = pd.read_csv('./input/data-2Dmesh.txt', header=None)\n",
    "data.head()"
   ]
  },
  {
   "cell_type": "code",
   "execution_count": 7,
   "metadata": {},
   "outputs": [
    {
     "data": {
      "text/plain": [
       "<matplotlib.axes._subplots.AxesSubplot at 0x7fbfe815dcc0>"
      ]
     },
     "execution_count": 7,
     "metadata": {},
     "output_type": "execute_result"
    },
    {
     "data": {
      "image/png": "[encoded data removed]",
      "text/plain": [
       "<Figure size 432x288 with 2 Axes>"
      ]
     },
     "metadata": {
      "needs_background": "light"
     },
     "output_type": "display_data"
    }
   ],
   "source": [
    "sns.heatmap(data)"
   ]
  },
  {
   "cell_type": "code",
   "execution_count": 9,
   "metadata": {},
   "outputs": [
    {
     "data": {
      "text/html": [
       "<div>\n",
       "<style scoped>\n",
       "    .dataframe tbody tr th:only-of-type {\n",
       "        vertical-align: middle;\n",
       "    }\n",
       "\n",
       "    .dataframe tbody tr th {\n",
       "        vertical-align: top;\n",
       "    }\n",
       "\n",
       "    .dataframe thead th {\n",
       "        text-align: right;\n",
       "    }\n",
       "</style>\n",
       "<table border=\"1\" class=\"dataframe\">\n",
       "  <thead>\n",
       "    <tr style=\"text-align: right;\">\n",
       "      <th></th>\n",
       "      <th>0</th>\n",
       "      <th>1</th>\n",
       "      <th>2</th>\n",
       "      <th>3</th>\n",
       "      <th>4</th>\n",
       "      <th>5</th>\n",
       "      <th>6</th>\n",
       "      <th>7</th>\n",
       "      <th>8</th>\n",
       "      <th>9</th>\n",
       "      <th>...</th>\n",
       "      <th>14</th>\n",
       "      <th>15</th>\n",
       "      <th>16</th>\n",
       "      <th>17</th>\n",
       "      <th>18</th>\n",
       "      <th>19</th>\n",
       "      <th>20</th>\n",
       "      <th>21</th>\n",
       "      <th>22</th>\n",
       "      <th>23</th>\n",
       "    </tr>\n",
       "  </thead>\n",
       "  <tbody>\n",
       "    <tr>\n",
       "      <th>0</th>\n",
       "      <td>88</td>\n",
       "      <td>84</td>\n",
       "      <td>60</td>\n",
       "      <td>36</td>\n",
       "      <td>63</td>\n",
       "      <td>91</td>\n",
       "      <td>45</td>\n",
       "      <td>76</td>\n",
       "      <td>73</td>\n",
       "      <td>31</td>\n",
       "      <td>...</td>\n",
       "      <td>80</td>\n",
       "      <td>55</td>\n",
       "      <td>17</td>\n",
       "      <td>10</td>\n",
       "      <td>70</td>\n",
       "      <td>9</td>\n",
       "      <td>58</td>\n",
       "      <td>53</td>\n",
       "      <td>7</td>\n",
       "      <td>92</td>\n",
       "    </tr>\n",
       "    <tr>\n",
       "      <th>1</th>\n",
       "      <td>81</td>\n",
       "      <td>96</td>\n",
       "      <td>35</td>\n",
       "      <td>58</td>\n",
       "      <td>53</td>\n",
       "      <td>80</td>\n",
       "      <td>18</td>\n",
       "      <td>6</td>\n",
       "      <td>55</td>\n",
       "      <td>86</td>\n",
       "      <td>...</td>\n",
       "      <td>40</td>\n",
       "      <td>88</td>\n",
       "      <td>57</td>\n",
       "      <td>7</td>\n",
       "      <td>90</td>\n",
       "      <td>8</td>\n",
       "      <td>20</td>\n",
       "      <td>35</td>\n",
       "      <td>17</td>\n",
       "      <td>26</td>\n",
       "    </tr>\n",
       "    <tr>\n",
       "      <th>2</th>\n",
       "      <td>51</td>\n",
       "      <td>61</td>\n",
       "      <td>51</td>\n",
       "      <td>39</td>\n",
       "      <td>79</td>\n",
       "      <td>38</td>\n",
       "      <td>70</td>\n",
       "      <td>93</td>\n",
       "      <td>33</td>\n",
       "      <td>12</td>\n",
       "      <td>...</td>\n",
       "      <td>35</td>\n",
       "      <td>41</td>\n",
       "      <td>64</td>\n",
       "      <td>67</td>\n",
       "      <td>15</td>\n",
       "      <td>6</td>\n",
       "      <td>95</td>\n",
       "      <td>5</td>\n",
       "      <td>88</td>\n",
       "      <td>56</td>\n",
       "    </tr>\n",
       "    <tr>\n",
       "      <th>3</th>\n",
       "      <td>15</td>\n",
       "      <td>22</td>\n",
       "      <td>1</td>\n",
       "      <td>56</td>\n",
       "      <td>29</td>\n",
       "      <td>22</td>\n",
       "      <td>34</td>\n",
       "      <td>43</td>\n",
       "      <td>30</td>\n",
       "      <td>27</td>\n",
       "      <td>...</td>\n",
       "      <td>1</td>\n",
       "      <td>55</td>\n",
       "      <td>52</td>\n",
       "      <td>27</td>\n",
       "      <td>94</td>\n",
       "      <td>47</td>\n",
       "      <td>39</td>\n",
       "      <td>87</td>\n",
       "      <td>25</td>\n",
       "      <td>71</td>\n",
       "    </tr>\n",
       "    <tr>\n",
       "      <th>4</th>\n",
       "      <td>18</td>\n",
       "      <td>4</td>\n",
       "      <td>76</td>\n",
       "      <td>22</td>\n",
       "      <td>18</td>\n",
       "      <td>30</td>\n",
       "      <td>69</td>\n",
       "      <td>92</td>\n",
       "      <td>9</td>\n",
       "      <td>14</td>\n",
       "      <td>...</td>\n",
       "      <td>81</td>\n",
       "      <td>7</td>\n",
       "      <td>62</td>\n",
       "      <td>17</td>\n",
       "      <td>92</td>\n",
       "      <td>66</td>\n",
       "      <td>61</td>\n",
       "      <td>21</td>\n",
       "      <td>43</td>\n",
       "      <td>77</td>\n",
       "    </tr>\n",
       "  </tbody>\n",
       "</table>\n",
       "<p>5 rows × 24 columns</p>\n",
       "</div>"
      ],
      "text/plain": [
       "   0   1   2   3   4   5   6   7   8   9   ...  14  15  16  17  18  19  20  \\\n",
       "0  88  84  60  36  63  91  45  76  73  31  ...  80  55  17  10  70   9  58   \n",
       "1  81  96  35  58  53  80  18   6  55  86  ...  40  88  57   7  90   8  20   \n",
       "2  51  61  51  39  79  38  70  93  33  12  ...  35  41  64  67  15   6  95   \n",
       "3  15  22   1  56  29  22  34  43  30  27  ...   1  55  52  27  94  47  39   \n",
       "4  18   4  76  22  18  30  69  92   9  14  ...  81   7  62  17  92  66  61   \n",
       "\n",
       "   21  22  23  \n",
       "0  53   7  92  \n",
       "1  35  17  26  \n",
       "2   5  88  56  \n",
       "3  87  25  71  \n",
       "4  21  43  77  \n",
       "\n",
       "[5 rows x 24 columns]"
      ]
     },
     "execution_count": 9,
     "metadata": {},
     "output_type": "execute_result"
    }
   ],
   "source": [
    "data_info = pd.read_csv('./input/data-2Dmesh-design.txt', header=None)\n",
    "data_info.head()"
   ]
  },
  {
   "cell_type": "code",
   "execution_count": 10,
   "metadata": {},
   "outputs": [
    {
     "data": {
      "text/plain": [
       "<matplotlib.axes._subplots.AxesSubplot at 0x7fbfe603e080>"
      ]
     },
     "execution_count": 10,
     "metadata": {},
     "output_type": "execute_result"
    },
    {
     "data": {
      "image/png": "[encoded data removed]",
      "text/plain": [
       "<Figure size 432x288 with 2 Axes>"
      ]
     },
     "metadata": {
      "needs_background": "light"
     },
     "output_type": "display_data"
    }
   ],
   "source": [
    "sns.heatmap(data_info)"
   ]
  },
  {
   "cell_type": "code",
   "execution_count": 18,
   "metadata": {},
   "outputs": [],
   "source": [
    "stan_model = \"\"\"\n",
    "\n",
    "data {\n",
    "  int I;\n",
    "  int J;\n",
    "  real Y[I, J];\n",
    "  int T;\n",
    "  int<lower=1, upper=T> TID[I, J];  \n",
    "}\n",
    "\n",
    "parameters {\n",
    "  real r[I, J];\n",
    "  real<lower=0> s_r;\n",
    "  vector[T] beta;\n",
    "  real<lower=0> s_beta;\n",
    "  real<lower=0> s_Y;\n",
    "}\n",
    "\n",
    "model {\n",
    "  for (i in 1:I){\n",
    "    for (j in 3:J){\n",
    "      target += normal_lpdf(r[i, j] | 2 * r[i, j-1] - r[i, j-2], s_r);\n",
    "    }\n",
    "  }\n",
    "  for (i in 3:I){\n",
    "    for (j in 1:J){\n",
    "      target += normal_lpdf(r[i, j] | 2 * r[i-1, j] - r[i-2, j], s_r);\n",
    "    }\n",
    "  }\n",
    "  \n",
    "  beta ~ student_t(6, 0, s_beta);\n",
    "  for (i in 1:I){\n",
    "    for (j in 1:J){\n",
    "      Y[i, j] ~ normal(r[i, j] + beta[TID[i, j]], s_Y);\n",
    "    }\n",
    "  }\n",
    "}\n",
    "\n",
    "\"\"\""
   ]
  },
  {
   "cell_type": "code",
   "execution_count": 19,
   "metadata": {},
   "outputs": [
    {
     "name": "stderr",
     "output_type": "stream",
     "text": [
      "INFO:pystan:COMPILING THE C++ CODE FOR MODEL anon_model_b1549962fcb024bcb829c9727554e426 NOW.\n"
     ]
    }
   ],
   "source": [
    "sm = pystan.StanModel(model_code=stan_model)"
   ]
  },
  {
   "cell_type": "code",
   "execution_count": 26,
   "metadata": {},
   "outputs": [],
   "source": [
    "stan_data = {}\n",
    "stan_data['I'] = data.shape[0]\n",
    "stan_data['J'] = data.shape[1]\n",
    "stan_data['Y'] = data\n",
    "stan_data['T'] = 96\n",
    "stan_data['TID'] = data_info"
   ]
  },
  {
   "cell_type": "code",
   "execution_count": 33,
   "metadata": {},
   "outputs": [
    {
     "name": "stderr",
     "output_type": "stream",
     "text": [
      "WARNING:pystan:n_eff / iter below 0.001 indicates that the effective sample size has likely been overestimated\n",
      "WARNING:pystan:Rhat above 1.1 or below 0.9 indicates that the chains very likely have not mixed\n",
      "WARNING:pystan:2000 of 4000 iterations saturated the maximum tree depth of 10 (50 %)\n",
      "WARNING:pystan:Run again with max_treedepth larger than 10 to avoid saturation\n"
     ]
    }
   ],
   "source": [
    "fit = sm.sampling(stan_data, seed=1)"
   ]
  },
  {
   "cell_type": "code",
   "execution_count": 34,
   "metadata": {},
   "outputs": [
    {
     "name": "stderr",
     "output_type": "stream",
     "text": [
      "WARNING:pystan:Truncated summary with the 'fit.__repr__' method. For the full summary use 'print(fit)'\n"
     ]
    },
    {
     "data": {
      "text/plain": [
       "\n",
       "Warning: Shown data is truncated to 100 parameters\n",
       "For the full summary use 'print(fit)'\n",
       "\n",
       "Inference for Stan model: anon_model_b1549962fcb024bcb829c9727554e426.\n",
       "4 chains, each with iter=2000; warmup=1000; thin=1; \n",
       "post-warmup draws per chain=1000, total post-warmup draws=4000.\n",
       "\n",
       "          mean se_mean     sd   2.5%    25%    50%    75%  97.5%  n_eff   Rhat\n",
       "r[1,1]    1.33    0.42   0.63   0.49   0.94   1.01   2.15   2.34      2   3.06\n",
       "r[2,1]    1.53    0.45   0.66   0.68   1.07   1.36   2.32   2.61      2   4.19\n",
       "r[3,1]    1.71    0.52   0.75   0.71    1.1   1.77   2.41   2.88      2    4.8\n",
       "r[4,1]    1.95    0.56   0.81   0.85   1.23   2.07   2.71   3.15      2   5.25\n",
       "r[5,1]     2.2    0.61   0.87   1.01    1.4   2.41   3.05   3.41      2   5.58\n",
       "r[6,1]    2.48    0.64   0.91   1.22   1.61    2.7   3.38   3.68      2   5.84\n",
       "r[7,1]    2.83    0.62   0.89   1.59   1.97   3.05   3.71   3.95      2   5.78\n",
       "r[8,1]    3.27    0.54   0.78   2.14   2.52   3.58   4.04   4.21      2   4.97\n",
       "r[9,1]    3.75    0.44   0.64   2.75   3.12    4.2   4.38   4.48      2   4.18\n",
       "r[10,1]   4.21    0.36   0.53   3.34   3.71   4.58   4.71   4.75      2   3.47\n",
       "r[11,1]   4.49    0.39   0.58   3.57   3.93   4.85   5.05   5.08      2   3.81\n",
       "r[12,1]   4.57    0.58   0.84   3.37   3.75   4.88    5.4   5.49      2   5.45\n",
       "r[13,1]   4.49    0.88   1.25   2.88   3.27   4.79   5.75   5.91      2   8.16\n",
       "r[14,1]   4.32    1.24   1.76   2.17   2.57    4.6   6.09   6.32      2  11.14\n",
       "r[15,1]   4.22    1.55    2.2   1.64   2.05   4.48   6.44   6.73      2  13.41\n",
       "r[16,1]   4.09    1.89   2.69   0.91   1.42   4.38   6.79   7.15      2  13.16\n",
       "r[1,2]    1.41    0.38   0.56   0.78   0.96   1.18   2.12   2.32      2   3.49\n",
       "r[2,2]    1.67    0.37   0.54   1.05   1.35   1.37    2.3   2.57      2   4.15\n",
       "r[3,2]    1.91    0.38   0.55   1.21   1.54   1.74   2.52   2.83      2   4.16\n",
       "r[4,2]    2.25    0.35   0.51   1.56   1.89   2.13   2.84   3.08      2   3.85\n",
       "r[5,2]    2.64    0.29   0.43   2.04   2.36   2.52   3.22   3.33      2   3.21\n",
       "r[6,2]     3.1     0.2   0.31   2.59   2.92   2.96   3.58   3.58      2   2.36\n",
       "r[7,2]    3.58    0.14   0.23   3.27   3.31   3.58   3.84   3.91      3   1.75\n",
       "r[8,2]    4.11    0.18   0.29    3.7    3.7   4.09   4.32   4.65      3   2.18\n",
       "r[9,2]    4.62    0.29   0.44   4.09    4.2   4.36   5.02   5.35      2   3.29\n",
       "r[10,2]   5.01    0.34    0.5   4.48   4.53   4.69   5.49    5.8      2   3.83\n",
       "r[11,2]   5.24    0.27    0.4   4.85   4.86   4.87   5.62   5.92      2   3.18\n",
       "r[12,2]   5.26    0.07   0.16   5.03    5.1   5.26   5.33   5.64      6   1.26\n",
       "r[13,2]   5.09     0.3   0.45   4.37   4.69   5.29   5.52   5.65      2   3.54\n",
       "r[14,2]   4.78    0.75   1.07    3.4   3.72   4.98   5.85   6.05      2   8.05\n",
       "r[15,2]    4.5    1.18   1.67   2.51   2.84   4.66   6.18   6.44      2  12.32\n",
       "r[16,2]   4.23    1.59   2.26   1.62   1.99   4.42   6.51   6.83      2  14.75\n",
       "r[1,3]    1.61    0.33    0.5   0.97   0.97   1.59   2.29   2.29      2   3.16\n",
       "r[2,3]    1.89     0.3   0.45   1.34   1.34   1.84   2.51   2.53      2   3.39\n",
       "r[3,3]    2.22    0.27    0.4   1.71   1.71    2.2   2.77   2.77      2   2.97\n",
       "r[4,3]    2.64    0.25   0.37   2.08   2.08   2.74   3.01   3.06      2   2.71\n",
       "r[5,3]    3.18    0.31   0.45   2.45   2.64   3.25    3.5   3.84      2   3.38\n",
       "r[6,3]     3.8    0.49    0.7   2.82   3.12   3.59   4.44   4.75      2   5.41\n",
       "r[7,3]     4.4    0.68   0.97   3.19   3.43   4.23   5.35   5.66      2   7.65\n",
       "r[8,3]    5.01    0.89   1.27   3.56   3.74   4.78   6.26   6.58      2   9.84\n",
       "r[9,3]    5.54    1.04   1.48   3.93   4.05   5.28   7.01   7.31      2  12.11\n",
       "r[10,3]    5.9    1.08   1.53    4.3   4.36   5.62   7.42   7.73      2  12.54\n",
       "r[11,3]    6.1    1.01   1.43   4.66   4.67   5.81   7.53   7.84      2  11.46\n",
       "r[12,3]   6.03    0.74   1.06   4.92   4.97   5.71   7.08   7.38      2   8.51\n",
       "r[13,3]   5.73    0.33   0.48   5.16   5.27   5.48   6.18   6.49      2   3.81\n",
       "r[14,3]   5.31    0.22   0.34    4.7   5.03    5.4   5.73   5.77      2   2.57\n",
       "r[15,3]   4.89    0.72   1.03   3.57   3.89   5.12   5.92   6.14      2    8.0\n",
       "r[16,3]   4.47    1.23   1.74   2.37   2.75   4.69   6.23   6.51      2  11.33\n",
       "r[1,4]     1.9    0.38   0.56   0.99   1.18   2.18   2.27   2.56      2    3.6\n",
       "r[2,4]    2.21    0.36   0.52   1.33   1.57   2.49   2.49   2.82      2   4.05\n",
       "r[3,4]    2.59    0.38   0.55   1.68   1.97   2.72   2.98    3.3      2   4.16\n",
       "r[4,4]    3.12     0.5   0.72   2.03   2.44   3.01   3.75   4.09      2   5.33\n",
       "r[5,4]    3.77    0.74   1.05   2.37   2.73   3.65   4.78    5.1      2   7.88\n",
       "r[6,4]    4.48    1.02   1.45   2.72   3.02   4.38    5.9   6.23      2  11.38\n",
       "r[7,4]    5.19    1.31   1.86   3.07   3.32   4.93   7.04   7.34      2  14.81\n",
       "r[8,4]    5.85    1.57   2.23   3.42   3.61   5.55   8.08   8.37      2  17.91\n",
       "r[9,4]    6.36    1.73   2.45   3.76    3.9   6.07    8.8    9.1      2  19.88\n",
       "r[10,4]   6.72    1.78   2.53   4.11   4.19   6.45   9.24   9.57      2  19.78\n",
       "r[11,4]   6.88    1.69    2.4   4.46   4.48   6.59   9.28   9.61      2  18.77\n",
       "r[12,4]   6.74    1.39   1.97   4.74   4.77   6.42   8.71   9.03      2  15.49\n",
       "r[13,4]   6.38    0.94   1.33   4.97   5.05    6.1    7.7   8.02      2  10.46\n",
       "r[14,4]   5.87    0.38   0.55   5.19   5.33   5.58    6.4   6.71      2   4.35\n",
       "r[15,4]   5.35    0.23   0.35   4.75   5.08   5.42   5.76   5.85      2   2.72\n",
       "r[16,4]   4.82    0.79   1.13   3.31   3.72   5.08   5.95   6.19      2   7.22\n",
       "r[1,5]    2.24    0.54   0.77    1.0   1.47   2.24   2.86   3.23      2   4.98\n",
       "r[2,5]    2.59    0.57   0.82   1.33   1.83    2.6   3.29   3.62      2   6.42\n",
       "r[3,5]    3.03    0.67   0.95   1.65   2.11   2.94    3.9   4.23      2   7.23\n",
       "r[4,5]    3.62    0.88   1.25   1.98   2.38   3.54   4.83   5.15      2   9.51\n",
       "r[5,5]    4.35    1.19   1.68    2.3   2.65   4.23   6.01   6.31      2  13.16\n",
       "r[6,5]    5.14    1.55    2.2   2.63   2.93   4.99   7.32   7.65      2  17.29\n",
       "r[7,5]     5.9     1.9   2.68   2.95    3.2    5.7   8.58   8.89      2  21.51\n",
       "r[8,5]    6.53    2.15   3.04   3.28   3.48   6.31   9.57   9.89      2  23.35\n",
       "r[9,5]    6.98    2.27   3.22    3.6   3.75   6.74  10.19  10.52      2  24.68\n",
       "r[10,5]   7.28     2.3   3.25   3.93   4.02   6.98  10.53  10.87      2  24.45\n",
       "r[11,5]   7.39    2.19    3.1   4.25    4.3   7.08  10.49  10.82      2  22.96\n",
       "r[12,5]   7.29    1.93   2.73   4.56   4.57   6.91  10.03  10.35      2  19.89\n",
       "r[13,5]   6.93    1.48    2.1   4.77   4.83   6.61   9.02   9.34      2   16.3\n",
       "r[14,5]   6.41    0.93   1.32   4.98   5.09   6.15   7.72   8.04      2  10.45\n",
       "r[15,5]   5.86    0.36   0.52    5.2   5.36   5.64   6.35   6.66      2   4.17\n",
       "r[16,5]   5.25     0.3   0.45   4.48   4.87   5.41   5.81   5.88      2   2.83\n",
       "r[1,6]    2.55    0.73   1.04   1.01   1.56   2.46   3.48   3.89      2   6.44\n",
       "r[2,6]    2.94    0.81   1.15   1.32   1.81   2.92   4.01   4.34      2   9.09\n",
       "r[3,6]    3.47    0.99    1.4   1.62   2.07   3.38   4.81   5.12      2  11.25\n",
       "r[4,6]     4.1    1.25   1.77   1.92   2.32    4.0   5.84   6.15      2  13.92\n",
       "r[5,6]    4.85    1.59   2.25   2.23   2.58   4.74   7.09   7.39      2  17.72\n",
       "r[6,6]    5.66    1.98   2.81   2.53   2.83   5.43   8.46   8.78      2  21.84\n",
       "r[7,6]    6.39    2.32   3.29   2.83   3.09   6.21   9.67   10.0      2  24.78\n",
       "r[8,6]    6.94    2.53   3.58   3.13   3.34   6.73  10.52  10.85      2  26.49\n",
       "r[9,6]    7.27    2.59   3.66   3.44    3.6   7.04  10.93  11.26      2  27.82\n",
       "r[10,6]   7.46    2.54    3.6   3.74   3.85   7.17  11.05  11.37      2  28.01\n",
       "r[11,6]   7.52    2.41   3.41   4.04   4.11    7.2  10.92  11.23      2  25.93\n",
       "r[12,6]   7.46    2.19    3.1   4.35   4.36   7.16  10.56  10.89      2  23.08\n",
       "r[13,6]   7.24    1.85   2.63   4.58   4.61   6.84   9.86   10.2      2   19.6\n",
       "r[14,6]   6.83    1.39   1.98   4.78   4.86   6.56    8.8   9.14      2  15.37\n",
       "r[15,6]   6.29    0.84   1.19   4.97    5.1   6.02   7.47   7.78      2   9.57\n",
       "r[16,6]   5.71    0.27   0.41   5.17    5.2   5.56   6.06   6.46      2   2.57\n",
       "r[1,7]    2.72    0.84   1.19   1.03   1.55   2.54   3.82   4.23      2   7.43\n",
       "r[2,7]    3.21    1.01   1.43   1.31   1.79   3.09   4.58    4.9      2  11.27\n",
       "r[3,7]    3.79    1.23   1.75   1.59   2.03   3.76    5.5    5.8      2  14.34\n",
       "lp__    4176.9  2976.2 4210.2 -68.77 -31.69 4149.0 8388.3 8465.1      2 207.55\n",
       "\n",
       "Samples were drawn using NUTS at Sat May  2 13:09:55 2020.\n",
       "For each parameter, n_eff is a crude measure of effective sample size,\n",
       "and Rhat is the potential scale reduction factor on split chains (at \n",
       "convergence, Rhat=1)."
      ]
     },
     "execution_count": 34,
     "metadata": {},
     "output_type": "execute_result"
    }
   ],
   "source": [
    "fit"
   ]
  },
  {
   "cell_type": "code",
   "execution_count": 35,
   "metadata": {},
   "outputs": [
    {
     "name": "stderr",
     "output_type": "stream",
     "text": [
      "WARNING:pystan:Deprecation warning. PyStan plotting deprecated, use ArviZ library (Python 3.5+). `pip install arviz`; `arviz.plot_trace(fit)`)\n"
     ]
    },
    {
     "data": {
      "image/png": "[encoded data removed]",
      "text/plain": [
       "<Figure size 432x288 with 10 Axes>"
      ]
     },
     "metadata": {
      "needs_background": "light"
     },
     "output_type": "display_data"
    }
   ],
   "source": [
    "fig = fit.plot()"
   ]
  },
  {
   "cell_type": "code",
   "execution_count": 36,
   "metadata": {},
   "outputs": [
    {
     "data": {
      "text/plain": [
       "(4000, 16, 24)"
      ]
     },
     "execution_count": 36,
     "metadata": {},
     "output_type": "execute_result"
    }
   ],
   "source": [
    "sample_r = fit.extract('r')['r']\n",
    "sample_beta = fit.extract('beta')['beta']\n",
    "sample_r.shape"
   ]
  },
  {
   "cell_type": "code",
   "execution_count": null,
   "metadata": {},
   "outputs": [],
   "source": []
  }
 ],
 "metadata": {
  "kernelspec": {
   "display_name": "Python 3",
   "language": "python",
   "name": "python3"
  },
  "language_info": {
   "codemirror_mode": {
    "name": "ipython",
    "version": 3
   },
   "file_extension": ".py",
   "mimetype": "text/x-python",
   "name": "python",
   "nbconvert_exporter": "python",
   "pygments_lexer": "ipython3",
   "version": "3.5.2"
  }
 },
 "nbformat": 4,
 "nbformat_minor": 4
}
